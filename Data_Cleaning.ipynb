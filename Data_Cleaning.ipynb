{
 "cells": [
  {
   "cell_type": "markdown",
   "id": "e6c740a8",
   "metadata": {},
   "source": [
    "# Exploratory Data Analysis"
   ]
  },
  {
   "cell_type": "code",
   "execution_count": 95,
   "id": "eeeb2c2a",
   "metadata": {},
   "outputs": [],
   "source": [
    "# importing data manipulation packages\n",
    "import pandas as pd\n",
    "import numpy as np"
   ]
  },
  {
   "cell_type": "code",
   "execution_count": 96,
   "id": "87e343ea",
   "metadata": {},
   "outputs": [
    {
     "data": {
      "text/html": [
       "<div>\n",
       "<style scoped>\n",
       "    .dataframe tbody tr th:only-of-type {\n",
       "        vertical-align: middle;\n",
       "    }\n",
       "\n",
       "    .dataframe tbody tr th {\n",
       "        vertical-align: top;\n",
       "    }\n",
       "\n",
       "    .dataframe thead th {\n",
       "        text-align: right;\n",
       "    }\n",
       "</style>\n",
       "<table border=\"1\" class=\"dataframe\">\n",
       "  <thead>\n",
       "    <tr style=\"text-align: right;\">\n",
       "      <th></th>\n",
       "      <th>Year</th>\n",
       "      <th>Facility Id</th>\n",
       "      <th>Facility Name</th>\n",
       "      <th>APR DRG Code</th>\n",
       "      <th>APR Severity of Illness Code</th>\n",
       "      <th>APR DRG Description</th>\n",
       "      <th>APR Severity of Illness Description</th>\n",
       "      <th>APR Medical Surgical Code</th>\n",
       "      <th>APR Medical Surgical Description</th>\n",
       "      <th>Discharges</th>\n",
       "      <th>Mean Charge</th>\n",
       "      <th>Median Charge</th>\n",
       "      <th>Mean Cost</th>\n",
       "      <th>Median Cost</th>\n",
       "    </tr>\n",
       "  </thead>\n",
       "  <tbody>\n",
       "    <tr>\n",
       "      <th>0</th>\n",
       "      <td>2016</td>\n",
       "      <td>4</td>\n",
       "      <td>Albany Memorial Hospital</td>\n",
       "      <td>194</td>\n",
       "      <td>1</td>\n",
       "      <td>Heart Failure</td>\n",
       "      <td>Minor</td>\n",
       "      <td>M</td>\n",
       "      <td>Medical</td>\n",
       "      <td>2</td>\n",
       "      <td>8,375.41</td>\n",
       "      <td>8,375.41</td>\n",
       "      <td>3,585.05</td>\n",
       "      <td>3,585.05</td>\n",
       "    </tr>\n",
       "    <tr>\n",
       "      <th>1</th>\n",
       "      <td>2016</td>\n",
       "      <td>4</td>\n",
       "      <td>Albany Memorial Hospital</td>\n",
       "      <td>194</td>\n",
       "      <td>2</td>\n",
       "      <td>Heart Failure</td>\n",
       "      <td>Moderate</td>\n",
       "      <td>M</td>\n",
       "      <td>Medical</td>\n",
       "      <td>40</td>\n",
       "      <td>14,029.82</td>\n",
       "      <td>12,176.95</td>\n",
       "      <td>6,182.67</td>\n",
       "      <td>5,253.15</td>\n",
       "    </tr>\n",
       "    <tr>\n",
       "      <th>2</th>\n",
       "      <td>2016</td>\n",
       "      <td>4</td>\n",
       "      <td>Albany Memorial Hospital</td>\n",
       "      <td>194</td>\n",
       "      <td>3</td>\n",
       "      <td>Heart Failure</td>\n",
       "      <td>Major</td>\n",
       "      <td>M</td>\n",
       "      <td>Medical</td>\n",
       "      <td>70</td>\n",
       "      <td>23,921.77</td>\n",
       "      <td>20,229.81</td>\n",
       "      <td>11,149.49</td>\n",
       "      <td>9,068.10</td>\n",
       "    </tr>\n",
       "    <tr>\n",
       "      <th>3</th>\n",
       "      <td>2016</td>\n",
       "      <td>4</td>\n",
       "      <td>Albany Memorial Hospital</td>\n",
       "      <td>194</td>\n",
       "      <td>4</td>\n",
       "      <td>Heart Failure</td>\n",
       "      <td>Extreme</td>\n",
       "      <td>M</td>\n",
       "      <td>Medical</td>\n",
       "      <td>12</td>\n",
       "      <td>51,260.45</td>\n",
       "      <td>35,210.82</td>\n",
       "      <td>26,081.70</td>\n",
       "      <td>15,230.62</td>\n",
       "    </tr>\n",
       "    <tr>\n",
       "      <th>4</th>\n",
       "      <td>2016</td>\n",
       "      <td>4</td>\n",
       "      <td>Albany Memorial Hospital</td>\n",
       "      <td>196</td>\n",
       "      <td>4</td>\n",
       "      <td>Cardiac Arrest</td>\n",
       "      <td>Extreme</td>\n",
       "      <td>M</td>\n",
       "      <td>Medical</td>\n",
       "      <td>1</td>\n",
       "      <td>25,357.84</td>\n",
       "      <td>25,357.84</td>\n",
       "      <td>7,791.75</td>\n",
       "      <td>7,791.75</td>\n",
       "    </tr>\n",
       "  </tbody>\n",
       "</table>\n",
       "</div>"
      ],
      "text/plain": [
       "   Year  Facility Id             Facility Name  APR DRG Code  \\\n",
       "0  2016            4  Albany Memorial Hospital           194   \n",
       "1  2016            4  Albany Memorial Hospital           194   \n",
       "2  2016            4  Albany Memorial Hospital           194   \n",
       "3  2016            4  Albany Memorial Hospital           194   \n",
       "4  2016            4  Albany Memorial Hospital           196   \n",
       "\n",
       "   APR Severity of Illness Code APR DRG Description  \\\n",
       "0                             1       Heart Failure   \n",
       "1                             2       Heart Failure   \n",
       "2                             3       Heart Failure   \n",
       "3                             4       Heart Failure   \n",
       "4                             4      Cardiac Arrest   \n",
       "\n",
       "  APR Severity of Illness Description APR Medical Surgical Code  \\\n",
       "0                               Minor                         M   \n",
       "1                            Moderate                         M   \n",
       "2                               Major                         M   \n",
       "3                             Extreme                         M   \n",
       "4                             Extreme                         M   \n",
       "\n",
       "  APR Medical Surgical Description Discharges Mean Charge Median Charge  \\\n",
       "0                          Medical          2    8,375.41      8,375.41   \n",
       "1                          Medical         40   14,029.82     12,176.95   \n",
       "2                          Medical         70   23,921.77     20,229.81   \n",
       "3                          Medical         12   51,260.45     35,210.82   \n",
       "4                          Medical          1   25,357.84     25,357.84   \n",
       "\n",
       "   Mean Cost Median Cost  \n",
       "0   3,585.05    3,585.05  \n",
       "1   6,182.67    5,253.15  \n",
       "2  11,149.49    9,068.10  \n",
       "3  26,081.70   15,230.62  \n",
       "4   7,791.75    7,791.75  "
      ]
     },
     "execution_count": 96,
     "metadata": {},
     "output_type": "execute_result"
    }
   ],
   "source": [
    "# importing raw data\n",
    "df = pd.read_csv(\"Raw_Data.csv\")\n",
    "# previewing the first 5 rows of the dataset\n",
    "df.head()"
   ]
  },
  {
   "cell_type": "markdown",
   "id": "c26af03e",
   "metadata": {},
   "source": [
    "# Data Completing"
   ]
  },
  {
   "cell_type": "code",
   "execution_count": 97,
   "id": "2da711e0",
   "metadata": {},
   "outputs": [
    {
     "data": {
      "text/plain": [
       "Year                                     0\n",
       "Facility Id                              0\n",
       "Facility Name                            0\n",
       "APR DRG Code                             0\n",
       "APR Severity of Illness Code             0\n",
       "APR DRG Description                      0\n",
       "APR Severity of Illness Description    210\n",
       "APR Medical Surgical Code              479\n",
       "APR Medical Surgical Description         0\n",
       "Discharges                               0\n",
       "Mean Charge                              0\n",
       "Median Charge                            0\n",
       "Mean Cost                                0\n",
       "Median Cost                              0\n",
       "dtype: int64"
      ]
     },
     "execution_count": 97,
     "metadata": {},
     "output_type": "execute_result"
    }
   ],
   "source": [
    "# checking for missing values\n",
    "df.isnull().sum()"
   ]
  },
  {
   "cell_type": "markdown",
   "id": "ca0d0c45",
   "metadata": {},
   "source": [
    "ways to complete dataframe: \n",
    "\"APR Severity of Illness Description\" is specific to \"APR Severity of Illness Code\",which is completed;\n",
    "\"APR Medical Surgical Code\" is specific to \"APR Medical Surgical Description\", which is completed."
   ]
  },
  {
   "cell_type": "code",
   "execution_count": 98,
   "id": "c03d5173",
   "metadata": {},
   "outputs": [
    {
     "data": {
      "text/plain": [
       "array([1, 2, 3, 4, 0])"
      ]
     },
     "execution_count": 98,
     "metadata": {},
     "output_type": "execute_result"
    }
   ],
   "source": [
    "# showing the distinguishing values in the \"APR Severity of Illness Code\" column \n",
    "df[\"APR Severity of Illness Code\"].unique()"
   ]
  },
  {
   "cell_type": "code",
   "execution_count": 99,
   "id": "6421452f",
   "metadata": {},
   "outputs": [
    {
     "name": "stdout",
     "output_type": "stream",
     "text": [
      "0 ['Not Applicable' nan]\n",
      "1 ['Minor']\n",
      "2 ['Moderate']\n",
      "3 ['Major']\n",
      "4 ['Extreme']\n"
     ]
    }
   ],
   "source": [
    "# find the link between the \"APR Severity of Illness Code\" and \"APR Severity of Illness Description\" columns\n",
    "for i in range(0,5):\n",
    "    print(i, df[df[\"APR Severity of Illness Code\"] == i][\"APR Severity of Illness Description\"].unique())"
   ]
  },
  {
   "cell_type": "markdown",
   "id": "b8d5fb5e",
   "metadata": {},
   "source": [
    "The Null in \"APR Severity of Illness Description\" can be replaced by \"Not Applicable\" under the same APR Severity Code \"0\""
   ]
  },
  {
   "cell_type": "code",
   "execution_count": 100,
   "id": "d78bf93b",
   "metadata": {},
   "outputs": [],
   "source": [
    "# completing the missing values in the \"APR Severity of Illness Description\" column\n",
    "df.loc[df[\"APR Severity of Illness Description\"].isnull(), \"APR Severity of Illness Description\"] = \"Not Applicable\""
   ]
  },
  {
   "cell_type": "code",
   "execution_count": 101,
   "id": "3fc87195",
   "metadata": {},
   "outputs": [
    {
     "data": {
      "text/plain": [
       "array(['Medical', 'Surgical', 'Other'], dtype=object)"
      ]
     },
     "execution_count": 101,
     "metadata": {},
     "output_type": "execute_result"
    }
   ],
   "source": [
    "# showing the distinguishing values in the \"APR Medical Surgical Description\" column\n",
    "df[\"APR Medical Surgical Description\"].unique()"
   ]
  },
  {
   "cell_type": "code",
   "execution_count": 102,
   "id": "75748b91",
   "metadata": {},
   "outputs": [
    {
     "name": "stdout",
     "output_type": "stream",
     "text": [
      "Medical ['M']\n",
      "Surgical ['P']\n",
      "Other [nan 'U']\n"
     ]
    }
   ],
   "source": [
    "# find the link between the \"APR Severity of Illness Code\" and \"APR Severity of Illness Description\" columns\n",
    "for i in ['Medical', 'Surgical', 'Other']:\n",
    "    print(i, df[df[\"APR Medical Surgical Description\"] == i][\"APR Medical Surgical Code\"].unique())"
   ]
  },
  {
   "cell_type": "markdown",
   "id": "11541ef3",
   "metadata": {},
   "source": [
    "The Null in \"APR Medical Surgical Code\" can be replaced by \"U\" under the same APR Medical Surgical Description 'U'"
   ]
  },
  {
   "cell_type": "code",
   "execution_count": 103,
   "id": "6da89235",
   "metadata": {},
   "outputs": [],
   "source": [
    "# showing the rows with missing values in the \"APR Medical Surgical Code\" column\n",
    "df.loc[df[\"APR Medical Surgical Code\"].isnull(), \"APR Medical Surgical Code\"] = \"U\""
   ]
  },
  {
   "cell_type": "code",
   "execution_count": 104,
   "id": "1d8794e6",
   "metadata": {},
   "outputs": [
    {
     "data": {
      "text/plain": [
       "Year                                   0\n",
       "Facility Id                            0\n",
       "Facility Name                          0\n",
       "APR DRG Code                           0\n",
       "APR Severity of Illness Code           0\n",
       "APR DRG Description                    0\n",
       "APR Severity of Illness Description    0\n",
       "APR Medical Surgical Code              0\n",
       "APR Medical Surgical Description       0\n",
       "Discharges                             0\n",
       "Mean Charge                            0\n",
       "Median Charge                          0\n",
       "Mean Cost                              0\n",
       "Median Cost                            0\n",
       "dtype: int64"
      ]
     },
     "execution_count": 104,
     "metadata": {},
     "output_type": "execute_result"
    }
   ],
   "source": [
    "# Re-checking for missing values\n",
    "df.isnull().sum()"
   ]
  },
  {
   "cell_type": "code",
   "execution_count": 105,
   "id": "2c19bce1",
   "metadata": {},
   "outputs": [
    {
     "data": {
      "text/plain": [
       "np.False_"
      ]
     },
     "execution_count": 105,
     "metadata": {},
     "output_type": "execute_result"
    }
   ],
   "source": [
    "# looking for duplicates\n",
    "df.duplicated().any()"
   ]
  },
  {
   "cell_type": "markdown",
   "id": "e560404f",
   "metadata": {},
   "source": [
    "# Data Conversion"
   ]
  },
  {
   "cell_type": "code",
   "execution_count": 106,
   "id": "d7aa7b67",
   "metadata": {},
   "outputs": [
    {
     "name": "stdout",
     "output_type": "stream",
     "text": [
      "<class 'pandas.core.frame.DataFrame'>\n",
      "RangeIndex: 1192827 entries, 0 to 1192826\n",
      "Data columns (total 14 columns):\n",
      " #   Column                               Non-Null Count    Dtype \n",
      "---  ------                               --------------    ----- \n",
      " 0   Year                                 1192827 non-null  int64 \n",
      " 1   Facility Id                          1192827 non-null  int64 \n",
      " 2   Facility Name                        1192827 non-null  object\n",
      " 3   APR DRG Code                         1192827 non-null  int64 \n",
      " 4   APR Severity of Illness Code         1192827 non-null  int64 \n",
      " 5   APR DRG Description                  1192827 non-null  object\n",
      " 6   APR Severity of Illness Description  1192827 non-null  object\n",
      " 7   APR Medical Surgical Code            1192827 non-null  object\n",
      " 8   APR Medical Surgical Description     1192827 non-null  object\n",
      " 9   Discharges                           1192827 non-null  object\n",
      " 10  Mean Charge                          1192827 non-null  object\n",
      " 11  Median Charge                        1192827 non-null  object\n",
      " 12  Mean Cost                            1192827 non-null  object\n",
      " 13  Median Cost                          1192827 non-null  object\n",
      "dtypes: int64(4), object(10)\n",
      "memory usage: 127.4+ MB\n"
     ]
    }
   ],
   "source": [
    "# summarizing the dataset\n",
    "df.info()"
   ]
  },
  {
   "cell_type": "markdown",
   "id": "ca142305",
   "metadata": {},
   "source": [
    "Results shows that columns \"Discharges\", \"Mean Charge\", \"Median Charge\", \"Mean Cost\" and \"Median Cost\" are of type \"object\" instead of \"int\" or \"float\".\n",
    "Convert these columns to numeric types for future ML prediction."
   ]
  },
  {
   "cell_type": "code",
   "execution_count": 107,
   "id": "685d8aeb",
   "metadata": {},
   "outputs": [],
   "source": [
    "# Converting the \"Discharges\" column to int\n",
    "pre_cols = [\"Discharges\", \"Mean Charge\", \"Median Charge\", \"Mean Cost\", \"Median Cost\"]\n",
    "for col in pre_cols:\n",
    "    df[col] = df[col].str.replace(\",\", \"\") # Removing commas from the string\n",
    "    df[col] = pd.to_numeric(df[col], errors='coerce') # If errors = ‘coerce’, then invalid parsing will be set as NaN."
   ]
  },
  {
   "cell_type": "code",
   "execution_count": 108,
   "id": "172589db",
   "metadata": {},
   "outputs": [
    {
     "name": "stdout",
     "output_type": "stream",
     "text": [
      "<class 'pandas.core.frame.DataFrame'>\n",
      "RangeIndex: 1192827 entries, 0 to 1192826\n",
      "Data columns (total 14 columns):\n",
      " #   Column                               Non-Null Count    Dtype  \n",
      "---  ------                               --------------    -----  \n",
      " 0   Year                                 1192827 non-null  int64  \n",
      " 1   Facility Id                          1192827 non-null  int64  \n",
      " 2   Facility Name                        1192827 non-null  object \n",
      " 3   APR DRG Code                         1192827 non-null  int64  \n",
      " 4   APR Severity of Illness Code         1192827 non-null  int64  \n",
      " 5   APR DRG Description                  1192827 non-null  object \n",
      " 6   APR Severity of Illness Description  1192827 non-null  object \n",
      " 7   APR Medical Surgical Code            1192827 non-null  object \n",
      " 8   APR Medical Surgical Description     1192827 non-null  object \n",
      " 9   Discharges                           1192827 non-null  int64  \n",
      " 10  Mean Charge                          1192827 non-null  float64\n",
      " 11  Median Charge                        1192827 non-null  float64\n",
      " 12  Mean Cost                            1192827 non-null  float64\n",
      " 13  Median Cost                          1192827 non-null  float64\n",
      "dtypes: float64(4), int64(5), object(5)\n",
      "memory usage: 127.4+ MB\n"
     ]
    }
   ],
   "source": [
    "# check the coversion results\n",
    "df.info()"
   ]
  },
  {
   "cell_type": "code",
   "execution_count": 109,
   "id": "076b117a",
   "metadata": {},
   "outputs": [
    {
     "data": {
      "text/plain": [
       "Year                                   0\n",
       "Facility Id                            0\n",
       "Facility Name                          0\n",
       "APR DRG Code                           0\n",
       "APR Severity of Illness Code           0\n",
       "APR DRG Description                    0\n",
       "APR Severity of Illness Description    0\n",
       "APR Medical Surgical Code              0\n",
       "APR Medical Surgical Description       0\n",
       "Discharges                             0\n",
       "Mean Charge                            0\n",
       "Median Charge                          0\n",
       "Mean Cost                              0\n",
       "Median Cost                            0\n",
       "dtype: int64"
      ]
     },
     "execution_count": 109,
     "metadata": {},
     "output_type": "execute_result"
    }
   ],
   "source": [
    "# Checking for missing values after conversion\n",
    "df.isnull().sum()"
   ]
  },
  {
   "cell_type": "code",
   "execution_count": 110,
   "id": "9db20798",
   "metadata": {},
   "outputs": [],
   "source": [
    "df.to_csv(\"Refined_Data.csv\", index = False)"
   ]
  },
  {
   "cell_type": "markdown",
   "id": "06d0b0f9",
   "metadata": {},
   "source": []
  }
 ],
 "metadata": {
  "kernelspec": {
   "display_name": "Data-ML",
   "language": "python",
   "name": "python3"
  },
  "language_info": {
   "codemirror_mode": {
    "name": "ipython",
    "version": 3
   },
   "file_extension": ".py",
   "mimetype": "text/x-python",
   "name": "python",
   "nbconvert_exporter": "python",
   "pygments_lexer": "ipython3",
   "version": "3.13.3"
  }
 },
 "nbformat": 4,
 "nbformat_minor": 5
}
